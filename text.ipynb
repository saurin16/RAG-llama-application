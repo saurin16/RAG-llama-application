{
 "cells": [
  {
   "cell_type": "code",
   "execution_count": 21,
   "metadata": {},
   "outputs": [
    {
     "data": {
      "text/plain": [
       "True"
      ]
     },
     "execution_count": 21,
     "metadata": {},
     "output_type": "execute_result"
    }
   ],
   "source": [
    "## Retrieval Augmentation Generation \n",
    "import os\n",
    "from dotenv import load_dotenv\n",
    "load_dotenv()"
   ]
  },
  {
   "cell_type": "code",
   "execution_count": 22,
   "metadata": {},
   "outputs": [],
   "source": [
    "os.environ['OPENAI_API_KEY']=os.getenv(\"OPENAI_API_KEY\")"
   ]
  },
  {
   "cell_type": "code",
   "execution_count": 23,
   "metadata": {},
   "outputs": [],
   "source": [
    "from llama_index.core import VectorStoreIndex, SimpleDirectoryReader\n",
    "documents=SimpleDirectoryReader(\"data\").load_data()"
   ]
  },
  {
   "cell_type": "code",
   "execution_count": 24,
   "metadata": {},
   "outputs": [
    {
     "data": {
      "text/plain": [
       "[Document(id_='6a7a6a3a-a2df-4f84-8a14-55c1d8ab3b49', embedding=None, metadata={'page_label': '1', 'file_name': 'gpt4-0.pdf', 'file_path': 'c:\\\\Users\\\\patel\\\\Desktop\\\\projects\\\\RAG-llama\\\\data\\\\gpt4-0.pdf', 'file_type': 'application/pdf', 'file_size': 3100, 'creation_date': '2024-05-14', 'last_modified_date': '2024-05-14'}, excluded_embed_metadata_keys=['file_name', 'file_type', 'file_size', 'creation_date', 'last_modified_date', 'last_accessed_date'], excluded_llm_metadata_keys=['file_name', 'file_type', 'file_size', 'creation_date', 'last_modified_date', 'last_accessed_date'], relationships={}, text=\"OpenAI is launching GPT-4o, an iteration of the GPT-4 model that powers its hallmark product, ChatGPT.\\nThe updated model ªis much fasterº and improves ªcapabilities across text, vision, and audio,º OpenAI \\nCTO Mira Murati said in a livestream announcement on Monday. It'll be free for all users, and paid users \\nwill continue to ªhave up to five times the capacity limitsº of free users, Murati added.  \\n  \\nIn a blog post from the company, OpenAI says GPT-4o's capabilities ªwill be rolled out iteratively,º but its \\ntext and image capabilities will start to roll out today in ChatGPT.  \\n  \\nOpenAI CEO Sam Altman posted that the model is ªnatively multimodal,º which means the model could \\ngenerate content or understand commands in voice, text, or images. Developers who want to tinker with \\nGPT-4o will have access to the API, which is half the price and twice as fast as GPT-4 Turbo, Altman \\nadded on X.  \\n  \\nNew features are coming to ChatGPT's voice mode as part of the new model. The app will be able to act \\nas a Her-like voice assistant, responding in real time and observing the world around you. The current \\nvoice mode is more limited, responding to one prompt at a time and working with only what it can hear.  \\n  \\nAltman reflected on OpenAI's trajectory in a blog post following the livestream event. He said the \\ncompany's original vision had been to ªcreate all sorts of benefits for the world,º but he acknowledged that\\nthe vision had shifted. OpenAI has been criticized for not open-sourcing its advanced AI models, and \\nAltman seems to be saying the company's focus has changed to making those models available to \\ndevelopers through paid APIs and for those third parties to do the creating. ªInstead, it now looks like we'll\\ncreate AI and then other people will use it to create all sorts of amazing things that we all benefit from.º  \\n  \\nPrior to today's GPT-4o launch, conflicting reports predicted that OpenAI was announcing an AI search \\nengine to rival Google and Perplexity, a voice assistant baked into GPT-4, or a totally new and improved \\nmodel, GPT-5. Of course, OpenAI was sure to time this launch just ahead of Google I/O, the tech giant's \\nflagship conference, where we expect to see the launch of various AI products from the Gemini team.\", start_char_idx=None, end_char_idx=None, text_template='{metadata_str}\\n\\n{content}', metadata_template='{key}: {value}', metadata_seperator='\\n'),\n",
       " Document(id_='80fd4beb-494a-46cc-b8a8-12513310754a', embedding=None, metadata={'page_label': '1', 'file_name': 'jpmorgan_annualreport-2022-splitted.pdf', 'file_path': 'c:\\\\Users\\\\patel\\\\Desktop\\\\projects\\\\RAG-llama\\\\data\\\\jpmorgan_annualreport-2022-splitted.pdf', 'file_type': 'application/pdf', 'file_size': 103636, 'creation_date': '2024-05-14', 'last_modified_date': '2024-05-13'}, excluded_embed_metadata_keys=['file_name', 'file_type', 'file_size', 'creation_date', 'last_modified_date', 'last_accessed_date'], excluded_llm_metadata_keys=['file_name', 'file_type', 'file_size', 'creation_date', 'last_modified_date', 'last_accessed_date'], relationships={}, text='An important note to describe why we are showing the table above : The loan loss reserve \\naccounting rules — which are life-of-loan estimated losses based upon probability-based economic \\nscenarios — generate huge swings in earnings that can be unrelated to actual credit performance. \\nThis was particularly true for the COVID-19 years when, during the first six months of the pandemic, \\nwe built approximately $16 billion in reserves. Then in the next six quarters, we released essentially \\nthe equivalent number. We did so only because the scenarios used to estimate future credit losses \\nchanged dramatically.\\nThe table above shows reported net income, with and without loan loss reserve changes.  \\nThroughout this period, the credit portfolio was healthy, and charge-offs remained below  \\npre-pandemic levels. Either way, the company had strong absolute and relative performance./UIstop/UIstopNet income     /UIstop/UIstopDiluted earnings per share (EPS)    /UIstop/UIstopReturn on tangible common equity (ROTCE) \\n           2022 2021 2020 2019 2018 2017 2016 2015 2014 2013 2012 2011 2010 2009 2008 2007 2006 2005 2004$4.5$8.5$15.4$17.4$19.0$21.3\\n$17.9$21.7$24.4\\n$14.4$24.7 $24.4$26.9$38.4\\n$36. 4$37.7$48.3\\n$32. 5\\n/circlesolid\\n/circlesolid/circlesolid/circlesolid\\n/circlesolid/circlesolid/circlesolid/circlesolid /circlesolid\\n/circlesolid/circlesolid /circlesolid/circlesolid/circlesolid/circlesolid/circlesolid\\n/circlesolid/circlesolid/circlesolid\\n10%15%24%\\n22%\\n6%10%15% 15%15%\\n11%13%\\n13%12%17%19%\\n14%23%\\n18%\\n13%\\n/circlesolid\\n/circlesolid/circlesolid/circlesolid/circlesolid\\n/circlesolid/circlesolid/circlesolid/circlesolid\\n/circlesolid/circlesolid/circlesolid/circlesolid/circlesolid/circlesolid\\n$1.52$4.00 $4.3 3\\n$1.35$2.2 6$3.96$4.48$5.19 \\n$4.34 $5.29  $6.00\\n$6.31$10.72$15.36\\n$12.09\\n/circlesolid/circlesolid\\n/circlesolid\\n$8.88/circlesolid$9.00\\n$6.19\\n$2.35 $5.6$11.7$29.1$39.1Reported Excluding reserve release/build1\\n 2020  2021  2022  2020  2021  2022\\nNet income ($B)\\nDiluted EPS ($)\\nROTCE  $29.1 \\n  $8.88 \\n 14.4%  $48.3 \\n  $15.36 \\n 23.0%  $37.7 \\n  $12.09 \\n 17.7%  $38.4 \\n  $11.87 \\n 19.3%  $39.1 \\n  $12.35 \\n 18.5%   $40.4 \\n  $12.99 \\n 19.1%\\n1 Firmwide results excluding reserve release/build are non-GAAP financial measures. \\n2 Adjusted net income excludes $2.4 billion from net income in 2017 as a result of the enactment of the Tax Cuts and Jobs Act.\\nGAAP = Generally accepted accounting principles\\nROTCE = Return on tangible common equityAdjusted net income2Net income  \\nexcluding reserve  \\nrelease/build\\nAdjusted  \\nROTCE2 \\nwas 13.6%  \\nfor 2017ROTCE excluding  \\nreserve release/build \\nwas 19.3% for 2020  \\nand 18.5% for 2021Earnings, Diluted Earnings per Share and Return on Tangible Common Equity\\n2004–2022\\n($ in billions, except per share and ratio data)\\n6', start_char_idx=None, end_char_idx=None, text_template='{metadata_str}\\n\\n{content}', metadata_template='{key}: {value}', metadata_seperator='\\n'),\n",
       " Document(id_='a1f22fea-19f3-4fc8-9092-8361b4837b86', embedding=None, metadata={'page_label': '2', 'file_name': 'jpmorgan_annualreport-2022-splitted.pdf', 'file_path': 'c:\\\\Users\\\\patel\\\\Desktop\\\\projects\\\\RAG-llama\\\\data\\\\jpmorgan_annualreport-2022-splitted.pdf', 'file_type': 'application/pdf', 'file_size': 103636, 'creation_date': '2024-05-14', 'last_modified_date': '2024-05-13'}, excluded_embed_metadata_keys=['file_name', 'file_type', 'file_size', 'creation_date', 'last_modified_date', 'last_accessed_date'], excluded_llm_metadata_keys=['file_name', 'file_type', 'file_size', 'creation_date', 'last_modified_date', 'last_accessed_date'], relationships={}, text='Stock total return analysis\\nBank One S&P 500 Index S&P Financials Index\\nPerformance since becoming CEO of Bank One \\n(3/27/2000—12/31/2022)1\\nCompounded annual gain 11.3% 6.1% 4.6%\\nOverall gain 1,047.8% 287.7% 176.1%\\nJPMorgan Chase & Co. S&P 500 Index S&P Financials Index\\nPerformance since the Bank One and JPMorgan Chase & Co. merger\\n(7/1/2004—12/31/2022)\\nCompounded annual gain 9.9% 8.9% 4.4%\\nOverall gain 471.6% 386.8% 120.0%\\nPerformance for the period ended December 31, 2022\\n Compounded annual gain/(loss)\\n One year (12.6)% (18.1)% (10.5)%\\n Five years 7.7% 9.4% 6.4%\\n Ten years 14.9% 12.6% 12.1%\\nThis chart shows actual returns of the stock, with dividends reinvested, for heritage shareholders of Bank One and JPMorgan Chase & Co. vs. the Standard & Poor’s 500 Index \\n(S&P 500 Index) and the Standard & Poor’s Financials Index (S&P Financials Index).\\n1 On March 27, 2000, Jamie Dimon was hired as CEO of Bank One.Tangible Book Value1 and Average Stock Price per Share\\n2004–2022\\n/UIstop/UIstopTangible book value   /UIstop/UIstopAverage stock price   2022 2021 2020 2019 2018 2017 2016 2015 2014 2013 2012 2011 2010 2009 2008 2007 2006 2005 2004$60. 98 $66. 11 $71.53  $73.12  \\n$56.33\\n$15.35 $16.45$18.88$21.96 $22.52$27.09$30. 12$33. 62$38. 68 $40. 72 $44. 60$48.13$51.44$53.56\\n$38.70 $36.07  $43. 93 $47.75 \\n$39.83 \\n$35.49 $40.36  $39.36 $39.22 $51.88  $58.17  $63.83  $65.62 $113.80 \\n$106 .52 $155. 61 \\n$128.13 $110 .72 \\n$92.01 \\n1 9% compound annual growth rate since 2004.High: $169.81 \\nLow:  $101.28\\n7', start_char_idx=None, end_char_idx=None, text_template='{metadata_str}\\n\\n{content}', metadata_template='{key}: {value}', metadata_seperator='\\n'),\n",
       " Document(id_='795ebf83-789a-422e-94ad-cad2fb4cdbe9', embedding=None, metadata={'page_label': '1', 'file_name': 'openai.pdf', 'file_path': 'c:\\\\Users\\\\patel\\\\Desktop\\\\projects\\\\RAG-llama\\\\data\\\\openai.pdf', 'file_type': 'application/pdf', 'file_size': 113720, 'creation_date': '2024-05-14', 'last_modified_date': '2024-05-14'}, excluded_embed_metadata_keys=['file_name', 'file_type', 'file_size', 'creation_date', 'last_modified_date', 'last_accessed_date'], excluded_llm_metadata_keys=['file_name', 'file_type', 'file_size', 'creation_date', 'last_modified_date', 'last_accessed_date'], relationships={}, text=\"OpenAI is launching GPT-4o, an iteration of the GPT-4 model that powers its hallmark product, ChatGPT.\\nThe updated model ªis much fasterº and improves ªcapabilities across text, vision, and audio,º OpenAI \\nCTO Mira Murati said in a livestream announcement on Monday. It'll be free for all users, and paid users \\nwill continue to ªhave up to five times the capacity limitsº of free users, Murati added.  \\n  \\nIn a blog post from the company, OpenAI says GPT-4o's capabilities ªwill be rolled out iteratively,º but its \\ntext and image capabilities will start to roll out today in ChatGPT.  \\n  \\nOpenAI CEO Sam Altman posted that the model is ªnatively multimodal,º which means the model could \\ngenerate content or understand commands in voice, text, or images. Developers who want to tinker with \\nGPT-4o will have access to the API, which is half the price and twice as fast as GPT-4 Turbo, Altman \\nadded on X.  \\n  \\nNew features are coming to ChatGPT's voice mode as part of the new model. The app will be able to act \\nas a Her-like voice assistant, responding in real time and observing the world around you. The current \\nvoice mode is more limited, responding to one prompt at a time and working with only what it can hear.  \\n  \\nAltman reflected on OpenAI's trajectory in a blog post following the livestream event. He said the \\ncompany's original vision had been to ªcreate all sorts of benefits for the world,º but he acknowledged that\\nthe vision had shifted. OpenAI has been criticized for not open-sourcing its advanced AI models, and \\nAltman seems to be saying the company's focus has changed to making those models available to \\ndevelopers through paid APIs and for those third parties to do the creating. ªInstead, it now looks like we'll\\ncreate AI and then other people will use it to create all sorts of amazing things that we all benefit from.º  \\n  \\nPrior to today's GPT-4o launch, conflicting reports predicted that OpenAI was announcing an AI search \\nengine to rival Google and Perplexity, a voice assistant baked into GPT-4, or a totally new and improved \\nmodel, GPT-5. Of course, OpenAI was sure to time this launch just ahead of Google I/O, the tech giant's \\nflagship conference, where we expect to see the launch of various AI products from the Gemini team.\", start_char_idx=None, end_char_idx=None, text_template='{metadata_str}\\n\\n{content}', metadata_template='{key}: {value}', metadata_seperator='\\n'),\n",
       " Document(id_='d4b68259-0001-480a-9534-9345936af6b1', embedding=None, metadata={'page_label': '2', 'file_name': 'openai.pdf', 'file_path': 'c:\\\\Users\\\\patel\\\\Desktop\\\\projects\\\\RAG-llama\\\\data\\\\openai.pdf', 'file_type': 'application/pdf', 'file_size': 113720, 'creation_date': '2024-05-14', 'last_modified_date': '2024-05-14'}, excluded_embed_metadata_keys=['file_name', 'file_type', 'file_size', 'creation_date', 'last_modified_date', 'last_accessed_date'], excluded_llm_metadata_keys=['file_name', 'file_type', 'file_size', 'creation_date', 'last_modified_date', 'last_accessed_date'], relationships={}, text='An important note to describe why we are showing the table above : The loan loss reserve \\naccounting rules — which are life-of-loan estimated losses based upon probability-based economic \\nscenarios — generate huge swings in earnings that can be unrelated to actual credit performance. \\nThis was particularly true for the COVID-19 years when, during the first six months of the pandemic, \\nwe built approximately $16 billion in reserves. Then in the next six quarters, we released essentially \\nthe equivalent number. We did so only because the scenarios used to estimate future credit losses \\nchanged dramatically.\\nThe table above shows reported net income, with and without loan loss reserve changes.  \\nThroughout this period, the credit portfolio was healthy, and charge-offs remained below  \\npre-pandemic levels. Either way, the company had strong absolute and relative performance./UIstop/UIstopNet income     /UIstop/UIstopDiluted earnings per share (EPS)    /UIstop/UIstopReturn on tangible common equity (ROTCE) \\n           2022 2021 2020 2019 2018 2017 2016 2015 2014 2013 2012 2011 2010 2009 2008 2007 2006 2005 2004$4.5$8.5$15.4$17.4$19.0$21.3\\n$17.9$21.7$24.4\\n$14.4$24.7 $24.4$26.9$38.4\\n$36. 4$37.7$48.3\\n$32. 5\\n/circlesolid\\n/circlesolid/circlesolid/circlesolid\\n/circlesolid/circlesolid/circlesolid/circlesolid /circlesolid\\n/circlesolid/circlesolid /circlesolid/circlesolid/circlesolid/circlesolid/circlesolid\\n/circlesolid/circlesolid/circlesolid\\n10%15%24%\\n22%\\n6%10%15% 15%15%\\n11%13%\\n13%12%17%19%\\n14%23%\\n18%\\n13%\\n/circlesolid\\n/circlesolid/circlesolid/circlesolid/circlesolid\\n/circlesolid/circlesolid/circlesolid/circlesolid\\n/circlesolid/circlesolid/circlesolid/circlesolid/circlesolid/circlesolid\\n$1.52$4.00 $4.3 3\\n$1.35$2.2 6$3.96$4.48$5.19 \\n$4.34 $5.29  $6.00\\n$6.31$10.72$15.36\\n$12.09\\n/circlesolid/circlesolid\\n/circlesolid\\n$8.88/circlesolid$9.00\\n$6.19\\n$2.35 $5.6$11.7$29.1$39.1Reported Excluding reserve release/build1\\n 2020  2021  2022  2020  2021  2022\\nNet income ($B)\\nDiluted EPS ($)\\nROTCE  $29.1 \\n  $8.88 \\n 14.4%  $48.3 \\n  $15.36 \\n 23.0%  $37.7 \\n  $12.09 \\n 17.7%  $38.4 \\n  $11.87 \\n 19.3%  $39.1 \\n  $12.35 \\n 18.5%   $40.4 \\n  $12.99 \\n 19.1%\\n1 Firmwide results excluding reserve release/build are non-GAAP financial measures. \\n2 Adjusted net income excludes $2.4 billion from net income in 2017 as a result of the enactment of the Tax Cuts and Jobs Act.\\nGAAP = Generally accepted accounting principles\\nROTCE = Return on tangible common equityAdjusted net income2Net income  \\nexcluding reserve  \\nrelease/build\\nAdjusted  \\nROTCE2 \\nwas 13.6%  \\nfor 2017ROTCE excluding  \\nreserve release/build \\nwas 19.3% for 2020  \\nand 18.5% for 2021Earnings, Diluted Earnings per Share and Return on Tangible Common Equity\\n2004–2022\\n($ in billions, except per share and ratio data)\\n6', start_char_idx=None, end_char_idx=None, text_template='{metadata_str}\\n\\n{content}', metadata_template='{key}: {value}', metadata_seperator='\\n'),\n",
       " Document(id_='44c572d3-855b-433e-9b48-efe382d860f3', embedding=None, metadata={'page_label': '3', 'file_name': 'openai.pdf', 'file_path': 'c:\\\\Users\\\\patel\\\\Desktop\\\\projects\\\\RAG-llama\\\\data\\\\openai.pdf', 'file_type': 'application/pdf', 'file_size': 113720, 'creation_date': '2024-05-14', 'last_modified_date': '2024-05-14'}, excluded_embed_metadata_keys=['file_name', 'file_type', 'file_size', 'creation_date', 'last_modified_date', 'last_accessed_date'], excluded_llm_metadata_keys=['file_name', 'file_type', 'file_size', 'creation_date', 'last_modified_date', 'last_accessed_date'], relationships={}, text='Stock total return analysis\\nBank One S&P 500 Index S&P Financials Index\\nPerformance since becoming CEO of Bank One \\n(3/27/2000—12/31/2022)1\\nCompounded annual gain 11.3% 6.1% 4.6%\\nOverall gain 1,047.8% 287.7% 176.1%\\nJPMorgan Chase & Co. S&P 500 Index S&P Financials Index\\nPerformance since the Bank One and JPMorgan Chase & Co. merger\\n(7/1/2004—12/31/2022)\\nCompounded annual gain 9.9% 8.9% 4.4%\\nOverall gain 471.6% 386.8% 120.0%\\nPerformance for the period ended December 31, 2022\\n Compounded annual gain/(loss)\\n One year (12.6)% (18.1)% (10.5)%\\n Five years 7.7% 9.4% 6.4%\\n Ten years 14.9% 12.6% 12.1%\\nThis chart shows actual returns of the stock, with dividends reinvested, for heritage shareholders of Bank One and JPMorgan Chase & Co. vs. the Standard & Poor’s 500 Index \\n(S&P 500 Index) and the Standard & Poor’s Financials Index (S&P Financials Index).\\n1 On March 27, 2000, Jamie Dimon was hired as CEO of Bank One.Tangible Book Value1 and Average Stock Price per Share\\n2004–2022\\n/UIstop/UIstopTangible book value   /UIstop/UIstopAverage stock price   2022 2021 2020 2019 2018 2017 2016 2015 2014 2013 2012 2011 2010 2009 2008 2007 2006 2005 2004$60. 98 $66. 11 $71.53  $73.12  \\n$56.33\\n$15.35 $16.45$18.88$21.96 $22.52$27.09$30. 12$33. 62$38. 68 $40. 72 $44. 60$48.13$51.44$53.56\\n$38.70 $36.07  $43. 93 $47.75 \\n$39.83 \\n$35.49 $40.36  $39.36 $39.22 $51.88  $58.17  $63.83  $65.62 $113.80 \\n$106 .52 $155. 61 \\n$128.13 $110 .72 \\n$92.01 \\n1 9% compound annual growth rate since 2004.High: $169.81 \\nLow:  $101.28\\n7', start_char_idx=None, end_char_idx=None, text_template='{metadata_str}\\n\\n{content}', metadata_template='{key}: {value}', metadata_seperator='\\n')]"
      ]
     },
     "execution_count": 24,
     "metadata": {},
     "output_type": "execute_result"
    }
   ],
   "source": [
    "documents"
   ]
  },
  {
   "cell_type": "code",
   "execution_count": 25,
   "metadata": {},
   "outputs": [
    {
     "name": "stderr",
     "output_type": "stream",
     "text": [
      "Parsing nodes:   0%|          | 0/6 [00:00<?, ?it/s]"
     ]
    },
    {
     "name": "stderr",
     "output_type": "stream",
     "text": [
      "Parsing nodes: 100%|██████████| 6/6 [00:00<00:00, 88.94it/s]\n",
      "Generating embeddings: 100%|██████████| 6/6 [00:00<00:00, 16.31it/s]\n"
     ]
    }
   ],
   "source": [
    "import openai\n",
    "openai.api_key = \"sk-proj-TFOi0qPst9Lkzh4L36jnT3BlbkFJd4ukE2DVE7Rz26AbfdyQ\"\n",
    "index=VectorStoreIndex.from_documents(documents,show_progress=True)"
   ]
  },
  {
   "cell_type": "code",
   "execution_count": 26,
   "metadata": {},
   "outputs": [
    {
     "data": {
      "text/plain": [
       "<llama_index.core.indices.vector_store.base.VectorStoreIndex at 0x1d8acdec080>"
      ]
     },
     "execution_count": 26,
     "metadata": {},
     "output_type": "execute_result"
    }
   ],
   "source": [
    "index"
   ]
  },
  {
   "cell_type": "code",
   "execution_count": 27,
   "metadata": {},
   "outputs": [],
   "source": [
    "query_engine=index.as_query_engine()"
   ]
  },
  {
   "cell_type": "code",
   "execution_count": 28,
   "metadata": {},
   "outputs": [],
   "source": [
    "from llama_index.core.retrievers import VectorIndexRetriever\n",
    "from llama_index.core.query_engine import RetrieverQueryEngine\n",
    "from llama_index.core.indices.postprocessor import SimilarityPostprocessor\n",
    "# Retrieving 4 outputs and specifying the condition that show response > similarity of 0.80\n",
    "retriever=VectorIndexRetriever(index=index,similarity_top_k=4)\n",
    "postprocessor=SimilarityPostprocessor(similarity_cutoff=0.80)\n",
    "\n",
    "query_engine=RetrieverQueryEngine(retriever=retriever,\n",
    "                                  node_postprocessors=[postprocessor])"
   ]
  },
  {
   "cell_type": "code",
   "execution_count": 29,
   "metadata": {},
   "outputs": [
    {
     "data": {
      "text/plain": [
       "<llama_index.core.query_engine.retriever_query_engine.RetrieverQueryEngine at 0x1d8ade96a80>"
      ]
     },
     "execution_count": 29,
     "metadata": {},
     "output_type": "execute_result"
    }
   ],
   "source": [
    "query_engine"
   ]
  },
  {
   "cell_type": "code",
   "execution_count": 30,
   "metadata": {},
   "outputs": [],
   "source": [
    "response = query_engine.query(\"What is the earnings of JP Morgan\")"
   ]
  },
  {
   "cell_type": "code",
   "execution_count": 31,
   "metadata": {},
   "outputs": [
    {
     "data": {
      "text/plain": [
       "Response(response='The earnings of JPMorgan Chase & Co. can be determined by looking at the overall gain percentages provided in the context.', source_nodes=[NodeWithScore(node=TextNode(id_='1f29e8b9-006b-435d-a954-7f840a28bc0f', embedding=None, metadata={'page_label': '2', 'file_name': 'jpmorgan_annualreport-2022-splitted.pdf', 'file_path': 'c:\\\\Users\\\\patel\\\\Desktop\\\\projects\\\\RAG-llama\\\\data\\\\jpmorgan_annualreport-2022-splitted.pdf', 'file_type': 'application/pdf', 'file_size': 103636, 'creation_date': '2024-05-14', 'last_modified_date': '2024-05-13'}, excluded_embed_metadata_keys=['file_name', 'file_type', 'file_size', 'creation_date', 'last_modified_date', 'last_accessed_date'], excluded_llm_metadata_keys=['file_name', 'file_type', 'file_size', 'creation_date', 'last_modified_date', 'last_accessed_date'], relationships={<NodeRelationship.SOURCE: '1'>: RelatedNodeInfo(node_id='a1f22fea-19f3-4fc8-9092-8361b4837b86', node_type=<ObjectType.DOCUMENT: '4'>, metadata={'page_label': '2', 'file_name': 'jpmorgan_annualreport-2022-splitted.pdf', 'file_path': 'c:\\\\Users\\\\patel\\\\Desktop\\\\projects\\\\RAG-llama\\\\data\\\\jpmorgan_annualreport-2022-splitted.pdf', 'file_type': 'application/pdf', 'file_size': 103636, 'creation_date': '2024-05-14', 'last_modified_date': '2024-05-13'}, hash='3a84a96010786d42791b7e285d053940054adaf7039eab299bf8491ced50846b')}, text='Stock total return analysis\\nBank One S&P 500 Index S&P Financials Index\\nPerformance since becoming CEO of Bank One \\n(3/27/2000—12/31/2022)1\\nCompounded annual gain 11.3% 6.1% 4.6%\\nOverall gain 1,047.8% 287.7% 176.1%\\nJPMorgan Chase & Co. S&P 500 Index S&P Financials Index\\nPerformance since the Bank One and JPMorgan Chase & Co. merger\\n(7/1/2004—12/31/2022)\\nCompounded annual gain 9.9% 8.9% 4.4%\\nOverall gain 471.6% 386.8% 120.0%\\nPerformance for the period ended December 31, 2022\\n Compounded annual gain/(loss)\\n One year (12.6)% (18.1)% (10.5)%\\n Five years 7.7% 9.4% 6.4%\\n Ten years 14.9% 12.6% 12.1%\\nThis chart shows actual returns of the stock, with dividends reinvested, for heritage shareholders of Bank One and JPMorgan Chase & Co. vs. the Standard & Poor’s 500 Index \\n(S&P 500 Index) and the Standard & Poor’s Financials Index (S&P Financials Index).\\n1 On March 27, 2000, Jamie Dimon was hired as CEO of Bank One.Tangible Book Value1 and Average Stock Price per Share\\n2004–2022\\n/UIstop/UIstopTangible book value   /UIstop/UIstopAverage stock price   2022 2021 2020 2019 2018 2017 2016 2015 2014 2013 2012 2011 2010 2009 2008 2007 2006 2005 2004$60. 98 $66. 11 $71.53  $73.12  \\n$56.33\\n$15.35 $16.45$18.88$21.96 $22.52$27.09$30. 12$33. 62$38. 68 $40. 72 $44. 60$48.13$51.44$53.56\\n$38.70 $36.07  $43. 93 $47.75 \\n$39.83 \\n$35.49 $40.36  $39.36 $39.22 $51.88  $58.17  $63.83  $65.62 $113.80 \\n$106 .52 $155. 61 \\n$128.13 $110 .72 \\n$92.01 \\n1 9% compound annual growth rate since 2004.High: $169.81 \\nLow:  $101.28\\n7', start_char_idx=0, end_char_idx=1510, text_template='{metadata_str}\\n\\n{content}', metadata_template='{key}: {value}', metadata_seperator='\\n'), score=0.8252268101921668), NodeWithScore(node=TextNode(id_='ba7e0ce4-2375-437b-a31c-83b9276d4f8d', embedding=None, metadata={'page_label': '3', 'file_name': 'openai.pdf', 'file_path': 'c:\\\\Users\\\\patel\\\\Desktop\\\\projects\\\\RAG-llama\\\\data\\\\openai.pdf', 'file_type': 'application/pdf', 'file_size': 113720, 'creation_date': '2024-05-14', 'last_modified_date': '2024-05-14'}, excluded_embed_metadata_keys=['file_name', 'file_type', 'file_size', 'creation_date', 'last_modified_date', 'last_accessed_date'], excluded_llm_metadata_keys=['file_name', 'file_type', 'file_size', 'creation_date', 'last_modified_date', 'last_accessed_date'], relationships={<NodeRelationship.SOURCE: '1'>: RelatedNodeInfo(node_id='44c572d3-855b-433e-9b48-efe382d860f3', node_type=<ObjectType.DOCUMENT: '4'>, metadata={'page_label': '3', 'file_name': 'openai.pdf', 'file_path': 'c:\\\\Users\\\\patel\\\\Desktop\\\\projects\\\\RAG-llama\\\\data\\\\openai.pdf', 'file_type': 'application/pdf', 'file_size': 113720, 'creation_date': '2024-05-14', 'last_modified_date': '2024-05-14'}, hash='5fa6ac40e014af5f983027898b31cdd363953d23c9a0c237d63f55ce0b89c68d')}, text='Stock total return analysis\\nBank One S&P 500 Index S&P Financials Index\\nPerformance since becoming CEO of Bank One \\n(3/27/2000—12/31/2022)1\\nCompounded annual gain 11.3% 6.1% 4.6%\\nOverall gain 1,047.8% 287.7% 176.1%\\nJPMorgan Chase & Co. S&P 500 Index S&P Financials Index\\nPerformance since the Bank One and JPMorgan Chase & Co. merger\\n(7/1/2004—12/31/2022)\\nCompounded annual gain 9.9% 8.9% 4.4%\\nOverall gain 471.6% 386.8% 120.0%\\nPerformance for the period ended December 31, 2022\\n Compounded annual gain/(loss)\\n One year (12.6)% (18.1)% (10.5)%\\n Five years 7.7% 9.4% 6.4%\\n Ten years 14.9% 12.6% 12.1%\\nThis chart shows actual returns of the stock, with dividends reinvested, for heritage shareholders of Bank One and JPMorgan Chase & Co. vs. the Standard & Poor’s 500 Index \\n(S&P 500 Index) and the Standard & Poor’s Financials Index (S&P Financials Index).\\n1 On March 27, 2000, Jamie Dimon was hired as CEO of Bank One.Tangible Book Value1 and Average Stock Price per Share\\n2004–2022\\n/UIstop/UIstopTangible book value   /UIstop/UIstopAverage stock price   2022 2021 2020 2019 2018 2017 2016 2015 2014 2013 2012 2011 2010 2009 2008 2007 2006 2005 2004$60. 98 $66. 11 $71.53  $73.12  \\n$56.33\\n$15.35 $16.45$18.88$21.96 $22.52$27.09$30. 12$33. 62$38. 68 $40. 72 $44. 60$48.13$51.44$53.56\\n$38.70 $36.07  $43. 93 $47.75 \\n$39.83 \\n$35.49 $40.36  $39.36 $39.22 $51.88  $58.17  $63.83  $65.62 $113.80 \\n$106 .52 $155. 61 \\n$128.13 $110 .72 \\n$92.01 \\n1 9% compound annual growth rate since 2004.High: $169.81 \\nLow:  $101.28\\n7', start_char_idx=0, end_char_idx=1510, text_template='{metadata_str}\\n\\n{content}', metadata_template='{key}: {value}', metadata_seperator='\\n'), score=0.8032796989389438)], metadata={'1f29e8b9-006b-435d-a954-7f840a28bc0f': {'page_label': '2', 'file_name': 'jpmorgan_annualreport-2022-splitted.pdf', 'file_path': 'c:\\\\Users\\\\patel\\\\Desktop\\\\projects\\\\RAG-llama\\\\data\\\\jpmorgan_annualreport-2022-splitted.pdf', 'file_type': 'application/pdf', 'file_size': 103636, 'creation_date': '2024-05-14', 'last_modified_date': '2024-05-13'}, 'ba7e0ce4-2375-437b-a31c-83b9276d4f8d': {'page_label': '3', 'file_name': 'openai.pdf', 'file_path': 'c:\\\\Users\\\\patel\\\\Desktop\\\\projects\\\\RAG-llama\\\\data\\\\openai.pdf', 'file_type': 'application/pdf', 'file_size': 113720, 'creation_date': '2024-05-14', 'last_modified_date': '2024-05-14'}})"
      ]
     },
     "execution_count": 31,
     "metadata": {},
     "output_type": "execute_result"
    }
   ],
   "source": [
    "response"
   ]
  },
  {
   "cell_type": "code",
   "execution_count": 32,
   "metadata": {},
   "outputs": [
    {
     "name": "stdout",
     "output_type": "stream",
     "text": [
      "The earnings of JPMorgan Chase & Co. can be determined by looking at the overall gain percentages provided in the context.\n"
     ]
    }
   ],
   "source": [
    "print(response)"
   ]
  },
  {
   "cell_type": "code",
   "execution_count": 33,
   "metadata": {},
   "outputs": [
    {
     "name": "stdout",
     "output_type": "stream",
     "text": [
      "Final Response: The earnings of JPMorgan Chase & Co. can be determined\n",
      "by looking at the overall gain percentages provided in the context.\n",
      "______________________________________________________________________\n",
      "Source Node 1/2\n",
      "Node ID: 1f29e8b9-006b-435d-a954-7f840a28bc0f\n",
      "Similarity: 0.8252268101921668\n",
      "Text: Stock total return analysis Bank One S&P 500 Index S&P\n",
      "Financials Index Performance since becoming CEO of Bank One\n",
      "(3/27/2000—12/31/2022)1 Compounded annual gain 11.3% 6.1% 4.6% Overall\n",
      "gain 1,047.8% 287.7% 176.1% JPMorgan Chase & Co. S&P 500 Index S&P\n",
      "Financials Index Performance since the Bank One and JPMorgan Chase &\n",
      "Co. merger (7/1/2004—12/...\n",
      "______________________________________________________________________\n",
      "Source Node 2/2\n",
      "Node ID: ba7e0ce4-2375-437b-a31c-83b9276d4f8d\n",
      "Similarity: 0.8032796989389438\n",
      "Text: Stock total return analysis Bank One S&P 500 Index S&P\n",
      "Financials Index Performance since becoming CEO of Bank One\n",
      "(3/27/2000—12/31/2022)1 Compounded annual gain 11.3% 6.1% 4.6% Overall\n",
      "gain 1,047.8% 287.7% 176.1% JPMorgan Chase & Co. S&P 500 Index S&P\n",
      "Financials Index Performance since the Bank One and JPMorgan Chase &\n",
      "Co. merger (7/1/2004—12/...\n"
     ]
    }
   ],
   "source": [
    "from llama_index.core.response.pprint_utils import pprint_response\n",
    "pprint_response(response,show_source=True)"
   ]
  },
  {
   "cell_type": "code",
   "execution_count": 34,
   "metadata": {},
   "outputs": [
    {
     "name": "stdout",
     "output_type": "stream",
     "text": [
      "JPMorgan's performance since the merger with Bank One showed a compounded annual gain of 9.9% and an overall gain of 471.6% from July 1, 2004, to December 31, 2022. Additionally, the performance for the period ending December 31, 2022, indicated a one-year compounded annual loss of 12.6%, a five-year gain of 7.7%, and a ten-year gain of 14.9%.\n",
      "OpenAI Voice Assistant is a conversational AI system developed by OpenAI that is designed to interact with users through voice commands and responses. It uses advanced natural language processing and machine learning techniques to understand and generate human-like speech, enabling users to engage in dialogue and perform tasks using voice interactions.\n",
      "OpenAI was founded by Elon Musk, Sam Altman, Greg Brockman, Ilya Sutskever, John Schulman, and Wojciech Zaremba.\n",
      "The future losses changed dramatically due to the scenarios used to estimate future credit losses undergoing significant shifts.\n",
      "$16 billion\n"
     ]
    }
   ],
   "source": [
    "\n",
    "import os.path\n",
    "from llama_index.core import (\n",
    "    VectorStoreIndex,\n",
    "    SimpleDirectoryReader,\n",
    "    StorageContext,\n",
    "    load_index_from_storage,\n",
    ")\n",
    "\n",
    "# check if storage already exists\n",
    "PERSIST_DIR = \"./storage\"\n",
    "if not os.path.exists(PERSIST_DIR):\n",
    "    # load the documents and create the index\n",
    "    documents = SimpleDirectoryReader(\"data\").load_data()\n",
    "    index = VectorStoreIndex.from_documents(documents)\n",
    "    # store it for later\n",
    "    index.storage_context.persist(persist_dir=PERSIST_DIR)\n",
    "else:\n",
    "    # load the existing index\n",
    "    storage_context = StorageContext.from_defaults(persist_dir=PERSIST_DIR)\n",
    "    index = load_index_from_storage(storage_context)\n",
    "\n",
    "# either way we can now query the index\n",
    "query_engine = index.as_query_engine()\n",
    "test1 = query_engine.query(\"Who built openai?\")\n",
    "response = query_engine.query(\"how was the performance of JPMorgan ?\")\n",
    "test = query_engine.query(\"What is openai voice assistant?\")\n",
    "test2 = query_engine.query(\"How did future losses changed dramatically?\")\n",
    "test3 = query_engine.query(\"How much are the reserves?\")\n",
    "\n",
    "print(response)\n",
    "print(test)\n",
    "print(test1)\n",
    "print(test2)\n",
    "print(test3)"
   ]
  },
  {
   "cell_type": "code",
   "execution_count": 35,
   "metadata": {},
   "outputs": [],
   "source": [
    "test4 = query_engine.query(\"How will developers access GPT-4o?\")"
   ]
  },
  {
   "cell_type": "code",
   "execution_count": 36,
   "metadata": {},
   "outputs": [
    {
     "name": "stdout",
     "output_type": "stream",
     "text": [
      "Developers will likely access GPT-4o through an API provided by the organization or company that develops and maintains GPT-4o. This API will allow developers to integrate GPT-4o's capabilities into their applications, platforms, or systems, enabling them to leverage the power of GPT-4o for various natural language processing tasks.\n"
     ]
    }
   ],
   "source": [
    "print(test4)"
   ]
  },
  {
   "cell_type": "code",
   "execution_count": 37,
   "metadata": {},
   "outputs": [
    {
     "name": "stdout",
     "output_type": "stream",
     "text": [
      "$29.1 billion\n"
     ]
    }
   ],
   "source": [
    "test5= query_engine.query(\"What was the Net Income in 2020, the Reported one?\")\n",
    "print(test5)"
   ]
  },
  {
   "cell_type": "code",
   "execution_count": 38,
   "metadata": {},
   "outputs": [
    {
     "name": "stdout",
     "output_type": "stream",
     "text": [
      "$29.1 billion\n"
     ]
    }
   ],
   "source": [
    "test6 = query_engine.query(\"What was the evolution of the Net Income from 2020? just Net Income from 2020?\")\n",
    "print(test6)"
   ]
  },
  {
   "cell_type": "code",
   "execution_count": 39,
   "metadata": {},
   "outputs": [
    {
     "name": "stdout",
     "output_type": "stream",
     "text": [
      "The evolution in terms of percentage of the Reported Net Income from 2020 to 2021 was a decrease from 14.4% in 2020 to 12.09% in 2021.\n"
     ]
    }
   ],
   "source": [
    "test6 = query_engine.query(\"What was the evolution in term of percentage of the Net Income from 2020 to 2021, the Reported one?\")\n",
    "\n",
    "print(test6)"
   ]
  }
 ],
 "metadata": {
  "kernelspec": {
   "display_name": "myenv",
   "language": "python",
   "name": "python3"
  },
  "language_info": {
   "codemirror_mode": {
    "name": "ipython",
    "version": 3
   },
   "file_extension": ".py",
   "mimetype": "text/x-python",
   "name": "python",
   "nbconvert_exporter": "python",
   "pygments_lexer": "ipython3",
   "version": "3.12.3"
  }
 },
 "nbformat": 4,
 "nbformat_minor": 2
}
